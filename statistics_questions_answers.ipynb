{
 "cells": [
  {
   "cell_type": "markdown",
   "id": "ce400394",
   "metadata": {},
   "source": [
    "\n",
    "## Q1: Define the z-statistic and explain its relationship to the standard normal distribution. How is the z-statistic used in hypothesis testing?\n",
    "\n",
    "**Answer**: \n",
    "The z-statistic, or z-score, is a measure that indicates how many standard deviations an element is from the mean of a distribution. In hypothesis testing, the z-score is used to determine the probability of observing a sample statistic, assuming the null hypothesis is true.\n",
    "\n",
    "The z-score is calculated as:\n",
    "\\[ z = \\frac{(X - \\mu)}{\\sigma} \\]\n",
    "where:\n",
    "- \\( X \\) is the sample mean,\n",
    "- \\( \\mu \\) is the population mean, and\n",
    "- \\( \\sigma \\) is the standard deviation.\n",
    "\n",
    "In hypothesis testing, the z-statistic helps to assess if the sample mean significantly deviates from the population mean. If the z-score falls beyond a critical threshold (e.g., ±1.96 for a 95% confidence level), the null hypothesis may be rejected.\n"
   ]
  },
  {
   "cell_type": "markdown",
   "id": "297ff9d7",
   "metadata": {},
   "source": [
    "\n",
    "## Q2: What is a p-value, and how is it used in hypothesis testing? What does it mean if the p-value is very small (e.g., 0.01)?\n",
    "\n",
    "**Answer**: \n",
    "The p-value is the probability of obtaining an observed sample result, or one more extreme, under the assumption that the null hypothesis is true. It quantifies the evidence against the null hypothesis.\n",
    "\n",
    "- A small p-value (e.g., 0.01) indicates that the observed result is unlikely under the null hypothesis and suggests that we may reject the null hypothesis.\n",
    "- Generally, if the p-value is below a predetermined significance level (\\(\\alpha\\)), such as 0.05, we reject the null hypothesis. If the p-value is high, we fail to reject it.\n"
   ]
  },
  {
   "cell_type": "markdown",
   "id": "a2ae9c91",
   "metadata": {},
   "source": [
    "\n",
    "## Q3: Compare and contrast the binomial and Bernoulli distributions.\n",
    "\n",
    "**Answer**: \n",
    "- **Bernoulli distribution** models a single trial with two possible outcomes: success (1) with probability \\( p \\), or failure (0) with probability \\( 1 - p \\).\n",
    "- **Binomial distribution** represents the number of successes in a fixed number of independent Bernoulli trials (\\( n \\)) with a constant probability of success (\\( p \\)).\n",
    "- The Bernoulli distribution is essentially a special case of the binomial distribution where \\( n = 1 \\).\n"
   ]
  },
  {
   "cell_type": "markdown",
   "id": "399339dc",
   "metadata": {},
   "source": [
    "\n",
    "## Q4: Under what conditions is the binomial distribution used, and how does it relate to the Bernoulli distribution?\n",
    "\n",
    "**Answer**: \n",
    "The binomial distribution is used when:\n",
    "1. The experiment has a fixed number of trials, \\( n \\).\n",
    "2. Each trial has two possible outcomes: success or failure.\n",
    "3. The probability of success, \\( p \\), is the same for each trial.\n",
    "4. The trials are independent.\n",
    "\n",
    "Relationship to Bernoulli: The binomial distribution is the sum of independent Bernoulli trials.\n"
   ]
  },
  {
   "cell_type": "markdown",
   "id": "8c2e4959",
   "metadata": {},
   "source": [
    "\n",
    "## Q5: What are the key properties of the Poisson distribution, and when is it appropriate to use this distribution?\n",
    "\n",
    "**Answer**: \n",
    "The Poisson distribution is used to model the number of times an event occurs within a fixed interval of time or space. Key properties include:\n",
    "- It describes rare events.\n",
    "- The mean (\\( \\lambda \\)) and variance are equal.\n",
    "- Suitable for events occurring independently at a constant average rate over time.\n",
    "\n",
    "The distribution is appropriate when counting occurrences within fixed intervals, such as the number of emails received per hour.\n"
   ]
  },
  {
   "cell_type": "markdown",
   "id": "4e10013a",
   "metadata": {},
   "source": [
    "\n",
    "## Q6: Define the terms \"probability distribution\" and \"probability density function\" (PDF). How does a PDF differ from a probability mass function (PMF)?\n",
    "\n",
    "**Answer**: \n",
    "- A **probability distribution** describes how the values of a random variable are distributed.\n",
    "- A **Probability Density Function (PDF)** represents the probability distribution for continuous variables. For a given value \\( x \\), the PDF describes the relative likelihood that the variable will be close to \\( x \\).\n",
    "\n",
    "**Difference between PDF and PMF**:\n",
    "- **PDF** is used for continuous variables, where probabilities are represented over intervals.\n",
    "- **PMF** applies to discrete variables, giving the probability of each specific value.\n"
   ]
  },
  {
   "cell_type": "markdown",
   "id": "66629eae",
   "metadata": {},
   "source": [
    "\n",
    "## Q7: Explain the Central Limit Theorem (CLT) with an example.\n",
    "\n",
    "**Answer**: \n",
    "The Central Limit Theorem (CLT) states that the sampling distribution of the sample mean will approximate a normal distribution as the sample size increases, regardless of the original distribution.\n",
    "\n",
    "**Example**:\n",
    "If we take multiple samples from a non-normal distribution (like a uniform distribution), the means of these samples will form an approximate normal distribution as the number of samples increases.\n"
   ]
  },
  {
   "cell_type": "markdown",
   "id": "340a3116",
   "metadata": {},
   "source": [
    "\n",
    "## Q8: Compare z-scores and t-scores. When should you use a z-score, and when should a t-score be applied instead?\n",
    "\n",
    "**Answer**: \n",
    "- **Z-scores** are used when the population standard deviation is known and the sample size is large (n > 30).\n",
    "- **T-scores** are applied when the sample size is small (n < 30) and the population standard deviation is unknown.\n"
   ]
  },
  {
   "cell_type": "markdown",
   "id": "7c1163ab",
   "metadata": {},
   "source": [
    "\n",
    "## Q9: Given a sample mean of 105, a population mean of 100, a standard deviation of 15, and a sample size of 25, calculate the z-score and p-value. Based on a significance level of 0.05, do you reject or fail to reject the null hypothesis?\n",
    "\n",
    "**Task**: Write Python code to calculate the z-score and p-value for the given data.\n",
    "\n",
    "**Answer**:\n",
    "Let's calculate the z-score and p-value using the formulas:\n",
    "\\[ z = \\frac{(X - \\mu)}{\\sigma / \\sqrt{n}} \\]\n",
    "\n",
    "### Python Code:\n"
   ]
  },
  {
   "cell_type": "code",
   "execution_count": null,
   "id": "53ba7914",
   "metadata": {},
   "outputs": [],
   "source": [
    "\n",
    "from scipy.stats import norm\n",
    "\n",
    "# Given data\n",
    "sample_mean = 105\n",
    "population_mean = 100\n",
    "std_dev = 15\n",
    "sample_size = 25\n",
    "\n",
    "# Calculate the z-score\n",
    "z_score = (sample_mean - population_mean) / (std_dev / (sample_size ** 0.5))\n",
    "# Calculate the p-value for a two-tailed test\n",
    "p_value = 2 * (1 - norm.cdf(abs(z_score)))\n",
    "\n",
    "z_score, p_value, \"Reject null hypothesis\" if p_value < 0.05 else \"Fail to reject null hypothesis\"\n"
   ]
  },
  {
   "cell_type": "markdown",
   "id": "853076b9",
   "metadata": {},
   "source": [
    "\n",
    "## Q10: Simulate a binomial distribution with 10 trials and a probability of success of 0.6 using Python. Generate 1,000 samples and plot the distribution. What is the expected mean and variance?\n",
    "\n",
    "**Task**: Use Python to generate the data, plot the distribution, and calculate the mean and variance.\n",
    "\n",
    "**Answer**:\n",
    "The mean and variance of a binomial distribution can be calculated as:\n",
    "- Mean: \\( np \\)\n",
    "- Variance: \\( np(1 - p) \\)\n",
    "\n",
    "### Python Code:\n"
   ]
  },
  {
   "cell_type": "code",
   "execution_count": null,
   "id": "faa5da58",
   "metadata": {},
   "outputs": [],
   "source": [
    "\n",
    "import numpy as np\n",
    "import matplotlib.pyplot as plt\n",
    "\n",
    "# Parameters for binomial distribution\n",
    "n_trials = 10\n",
    "p_success = 0.6\n",
    "n_samples = 1000\n",
    "\n",
    "# Simulate binomial distribution\n",
    "data = np.random.binomial(n=n_trials, p=p_success, size=n_samples)\n",
    "\n",
    "# Plotting the distribution\n",
    "plt.hist(data, bins=range(n_trials + 2), density=True, edgecolor='black')\n",
    "plt.xlabel('Number of Successes')\n",
    "plt.ylabel('Probability')\n",
    "plt.title('Binomial Distribution (n=10, p=0.6)')\n",
    "plt.show()\n",
    "\n",
    "# Calculating mean and variance\n",
    "mean = np.mean(data)\n",
    "variance = np.var(data)\n",
    "\n",
    "mean, variance\n"
   ]
  }
 ],
 "metadata": {},
 "nbformat": 4,
 "nbformat_minor": 5
}
